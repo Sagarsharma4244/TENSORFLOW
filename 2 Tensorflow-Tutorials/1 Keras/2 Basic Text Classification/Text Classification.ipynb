{
 "cells": [
  {
   "cell_type": "markdown",
   "metadata": {},
   "source": [
    "# Text classification with movie reviews "
   ]
  },
  {
   "cell_type": "code",
   "execution_count": 8,
   "metadata": {},
   "outputs": [
    {
     "name": "stdout",
     "output_type": "stream",
     "text": [
      "2.0.0-alpha0\n"
     ]
    }
   ],
   "source": [
    "import tensorflow as tf\n",
    "from tensorflow import keras\n",
    "import numpy as np\n",
    "\n",
    "print(tf.__version__)"
   ]
  },
  {
   "cell_type": "markdown",
   "metadata": {},
   "source": [
    "## Download the IMDB Dataset"
   ]
  },
  {
   "cell_type": "code",
   "execution_count": 22,
   "metadata": {},
   "outputs": [
    {
     "name": "stdout",
     "output_type": "stream",
     "text": [
      "Downloading data from https://storage.googleapis.com/tensorflow/tf-keras-datasets/imdb.npz\n",
      "17465344/17464789 [==============================] - 14s 1us/step\n"
     ]
    }
   ],
   "source": [
    "imdb = keras.datasets.imdb\n",
    "(train_data, train_labels), (test_data, test_labels) = imdb.load_data(num_words = 10000)"
   ]
  },
  {
   "cell_type": "markdown",
   "metadata": {},
   "source": [
    "## Explore the Dataset"
   ]
  },
  {
   "cell_type": "code",
   "execution_count": 23,
   "metadata": {},
   "outputs": [
    {
     "name": "stdout",
     "output_type": "stream",
     "text": [
      "Training Entries: 25000 , labels: 25000\n"
     ]
    }
   ],
   "source": [
    "print(\"Training Entries: {} , labels: {}\".format(len(train_data), len(train_labels)))"
   ]
  },
  {
   "cell_type": "code",
   "execution_count": 24,
   "metadata": {},
   "outputs": [
    {
     "name": "stdout",
     "output_type": "stream",
     "text": [
      "Testing Entries: 25000 , labels: 25000\n"
     ]
    }
   ],
   "source": [
    "print(\"Testing Entries: {} , labels: {}\".format(len(test_data),len(test_labels)))"
   ]
  },
  {
   "cell_type": "code",
   "execution_count": 25,
   "metadata": {},
   "outputs": [
    {
     "name": "stdout",
     "output_type": "stream",
     "text": [
      "[1, 14, 22, 16, 43, 530, 973, 1622, 1385, 65, 458, 4468, 66, 3941, 4, 173, 36, 256, 5, 25, 100, 43, 838, 112, 50, 670, 2, 9, 35, 480, 284, 5, 150, 4, 172, 112, 167, 2, 336, 385, 39, 4, 172, 4536, 1111, 17, 546, 38, 13, 447, 4, 192, 50, 16, 6, 147, 2025, 19, 14, 22, 4, 1920, 4613, 469, 4, 22, 71, 87, 12, 16, 43, 530, 38, 76, 15, 13, 1247, 4, 22, 17, 515, 17, 12, 16, 626, 18, 2, 5, 62, 386, 12, 8, 316, 8, 106, 5, 4, 2223, 5244, 16, 480, 66, 3785, 33, 4, 130, 12, 16, 38, 619, 5, 25, 124, 51, 36, 135, 48, 25, 1415, 33, 6, 22, 12, 215, 28, 77, 52, 5, 14, 407, 16, 82, 2, 8, 4, 107, 117, 5952, 15, 256, 4, 2, 7, 3766, 5, 723, 36, 71, 43, 530, 476, 26, 400, 317, 46, 7, 4, 2, 1029, 13, 104, 88, 4, 381, 15, 297, 98, 32, 2071, 56, 26, 141, 6, 194, 7486, 18, 4, 226, 22, 21, 134, 476, 26, 480, 5, 144, 30, 5535, 18, 51, 36, 28, 224, 92, 25, 104, 4, 226, 65, 16, 38, 1334, 88, 12, 16, 283, 5, 16, 4472, 113, 103, 32, 15, 16, 5345, 19, 178, 32]\n"
     ]
    }
   ],
   "source": [
    "print(train_data[0])"
   ]
  },
  {
   "cell_type": "markdown",
   "metadata": {},
   "source": [
    "## Convert Integers Back to words"
   ]
  },
  {
   "cell_type": "code",
   "execution_count": 26,
   "metadata": {},
   "outputs": [
    {
     "name": "stdout",
     "output_type": "stream",
     "text": [
      "Downloading data from https://storage.googleapis.com/tensorflow/tf-keras-datasets/imdb_word_index.json\n",
      "1646592/1641221 [==============================] - 1s 1us/step\n"
     ]
    }
   ],
   "source": [
    "# A dictionary mapping words to an integer index\n",
    "word_index = imdb.get_word_index()\n",
    "\n",
    "# The first indices are reserved\n",
    "word_index = {k:(v+3) for k,v in word_index.items()} \n",
    "word_index[\"<PAD>\"] = 0\n",
    "word_index[\"<START>\"] = 1\n",
    "word_index[\"<UNK>\"] = 2  # unknown\n",
    "word_index[\"<UNUSED>\"] = 3\n",
    "\n",
    "reverse_word_index = dict([(value, key) for (key, value) in word_index.items()])\n",
    "\n",
    "def decode_review(text):\n",
    "    return ' '.join([reverse_word_index.get(i, '?') for i in text])"
   ]
  },
  {
   "cell_type": "code",
   "execution_count": 28,
   "metadata": {},
   "outputs": [
    {
     "data": {
      "text/plain": [
       "\"<START> this film was just brilliant casting location scenery story direction everyone's really suited the part they played and you could just imagine being there robert <UNK> is an amazing actor and now the same being director <UNK> father came from the same scottish island as myself so i loved the fact there was a real connection with this film the witty remarks throughout the film were great it was just brilliant so much that i bought the film as soon as it was released for <UNK> and would recommend it to everyone to watch and the fly fishing was amazing really cried at the end it was so sad and you know what they say if you cry at a film it must have been good and this definitely was also <UNK> to the two little boy's that played the <UNK> of norman and paul they were just brilliant children are often left out of the <UNK> list i think because the stars that play them all grown up are such a big profile for the whole film but these children are amazing and should be praised for what they have done don't you think the whole story was so lovely because it was true and was someone's life after all that was shared with us all\""
      ]
     },
     "execution_count": 28,
     "metadata": {},
     "output_type": "execute_result"
    }
   ],
   "source": [
    "decode_review(train_data[0])"
   ]
  },
  {
   "cell_type": "markdown",
   "metadata": {},
   "source": [
    "## Prepare the data"
   ]
  },
  {
   "cell_type": "code",
   "execution_count": 30,
   "metadata": {},
   "outputs": [],
   "source": [
    "train_data = keras.preprocessing.sequence.pad_sequences(train_data,\n",
    "                                                      value= word_index['<PAD>'],\n",
    "                                                      padding='post',\n",
    "                                                      maxlen=256)\n",
    "test_data = keras.preprocessing.sequence.pad_sequences(test_data,\n",
    "                                                     value = word_index['<PAD>'],\n",
    "                                                     padding='post',\n",
    "                                                     maxlen=256)"
   ]
  },
  {
   "cell_type": "code",
   "execution_count": 32,
   "metadata": {},
   "outputs": [
    {
     "name": "stdout",
     "output_type": "stream",
     "text": [
      "256\n"
     ]
    }
   ],
   "source": [
    "print(len(train_data[50]))"
   ]
  },
  {
   "cell_type": "code",
   "execution_count": 33,
   "metadata": {},
   "outputs": [
    {
     "name": "stdout",
     "output_type": "stream",
     "text": [
      "[   1   14   22   16   43  530  973 1622 1385   65  458 4468   66 3941\n",
      "    4  173   36  256    5   25  100   43  838  112   50  670    2    9\n",
      "   35  480  284    5  150    4  172  112  167    2  336  385   39    4\n",
      "  172 4536 1111   17  546   38   13  447    4  192   50   16    6  147\n",
      " 2025   19   14   22    4 1920 4613  469    4   22   71   87   12   16\n",
      "   43  530   38   76   15   13 1247    4   22   17  515   17   12   16\n",
      "  626   18    2    5   62  386   12    8  316    8  106    5    4 2223\n",
      " 5244   16  480   66 3785   33    4  130   12   16   38  619    5   25\n",
      "  124   51   36  135   48   25 1415   33    6   22   12  215   28   77\n",
      "   52    5   14  407   16   82    2    8    4  107  117 5952   15  256\n",
      "    4    2    7 3766    5  723   36   71   43  530  476   26  400  317\n",
      "   46    7    4    2 1029   13  104   88    4  381   15  297   98   32\n",
      " 2071   56   26  141    6  194 7486   18    4  226   22   21  134  476\n",
      "   26  480    5  144   30 5535   18   51   36   28  224   92   25  104\n",
      "    4  226   65   16   38 1334   88   12   16  283    5   16 4472  113\n",
      "  103   32   15   16 5345   19  178   32    0    0    0    0    0    0\n",
      "    0    0    0    0    0    0    0    0    0    0    0    0    0    0\n",
      "    0    0    0    0    0    0    0    0    0    0    0    0    0    0\n",
      "    0    0    0    0]\n"
     ]
    }
   ],
   "source": [
    "print(train_data[0])"
   ]
  },
  {
   "cell_type": "markdown",
   "metadata": {},
   "source": [
    "## Build a Model"
   ]
  },
  {
   "cell_type": "code",
   "execution_count": 37,
   "metadata": {},
   "outputs": [
    {
     "name": "stdout",
     "output_type": "stream",
     "text": [
      "Model: \"sequential_1\"\n",
      "_________________________________________________________________\n",
      "Layer (type)                 Output Shape              Param #   \n",
      "=================================================================\n",
      "embedding_1 (Embedding)      (None, None, 16)          160000    \n",
      "_________________________________________________________________\n",
      "global_average_pooling1d_1 ( (None, 16)                0         \n",
      "_________________________________________________________________\n",
      "dense (Dense)                (None, 16)                272       \n",
      "_________________________________________________________________\n",
      "dense_1 (Dense)              (None, 1)                 17        \n",
      "=================================================================\n",
      "Total params: 160,289\n",
      "Trainable params: 160,289\n",
      "Non-trainable params: 0\n",
      "_________________________________________________________________\n"
     ]
    }
   ],
   "source": [
    "vocab_size = 10000\n",
    "model = keras.Sequential()\n",
    "model.add(keras.layers.Embedding(vocab_size,16))\n",
    "model.add(keras.layers.GlobalAveragePooling1D())\n",
    "model.add(keras.layers.Dense(16, activation=tf.nn.relu))\n",
    "model.add(keras.layers.Dense(1, activation = tf.nn.sigmoid))\n",
    "\n",
    "model.summary()"
   ]
  },
  {
   "cell_type": "markdown",
   "metadata": {},
   "source": [
    "## Compile Model"
   ]
  },
  {
   "cell_type": "code",
   "execution_count": 38,
   "metadata": {},
   "outputs": [],
   "source": [
    "model.compile(optimizer='adam',\n",
    "             loss='binary_crossentropy',\n",
    "             metrics=['acc'])"
   ]
  },
  {
   "cell_type": "code",
   "execution_count": 42,
   "metadata": {},
   "outputs": [],
   "source": [
    "x_val = train_data[:10000]\n",
    "partial_x_train = train_data[10000:]\n",
    "y_val = train_labels[:10000]\n",
    "partial_y_train = train_labels[10000:]"
   ]
  },
  {
   "cell_type": "markdown",
   "metadata": {},
   "source": [
    "##  Train the Model"
   ]
  },
  {
   "cell_type": "code",
   "execution_count": 44,
   "metadata": {},
   "outputs": [
    {
     "name": "stdout",
     "output_type": "stream",
     "text": [
      "Train on 15000 samples, validate on 10000 samples\n",
      "Epoch 1/40\n",
      "15000/15000 [==============================] - 10s 673us/sample - loss: 0.6922 - acc: 0.5509 - val_loss: 0.6903 - val_acc: 0.6779\n",
      "Epoch 2/40\n",
      "15000/15000 [==============================] - 5s 315us/sample - loss: 0.6867 - acc: 0.7110 - val_loss: 0.6820 - val_acc: 0.7208\n",
      "Epoch 3/40\n",
      "15000/15000 [==============================] - 5s 334us/sample - loss: 0.6732 - acc: 0.7459 - val_loss: 0.6648 - val_acc: 0.7482\n",
      "Epoch 4/40\n",
      "15000/15000 [==============================] - 5s 349us/sample - loss: 0.6495 - acc: 0.7661 - val_loss: 0.6376 - val_acc: 0.7475\n",
      "Epoch 5/40\n",
      "15000/15000 [==============================] - 5s 355us/sample - loss: 0.6146 - acc: 0.7910 - val_loss: 0.6012 - val_acc: 0.7842\n",
      "Epoch 6/40\n",
      "15000/15000 [==============================] - 5s 336us/sample - loss: 0.5709 - acc: 0.8133 - val_loss: 0.5592 - val_acc: 0.8071\n",
      "Epoch 7/40\n",
      "15000/15000 [==============================] - 5s 346us/sample - loss: 0.5224 - acc: 0.8313 - val_loss: 0.5140 - val_acc: 0.8201\n",
      "Epoch 8/40\n",
      "15000/15000 [==============================] - 6s 391us/sample - loss: 0.4743 - acc: 0.8485 - val_loss: 0.4727 - val_acc: 0.8353\n",
      "Epoch 9/40\n",
      "15000/15000 [==============================] - 4s 290us/sample - loss: 0.4301 - acc: 0.8635 - val_loss: 0.4361 - val_acc: 0.8459\n",
      "Epoch 10/40\n",
      "15000/15000 [==============================] - 4s 292us/sample - loss: 0.3915 - acc: 0.8747 - val_loss: 0.4061 - val_acc: 0.8524\n",
      "Epoch 11/40\n",
      "15000/15000 [==============================] - 4s 287us/sample - loss: 0.3590 - acc: 0.8838 - val_loss: 0.3815 - val_acc: 0.8611\n",
      "Epoch 12/40\n",
      "15000/15000 [==============================] - 4s 284us/sample - loss: 0.3318 - acc: 0.8905 - val_loss: 0.3625 - val_acc: 0.8636\n",
      "Epoch 13/40\n",
      "15000/15000 [==============================] - 5s 338us/sample - loss: 0.3095 - acc: 0.8961 - val_loss: 0.3461 - val_acc: 0.8694\n",
      "Epoch 14/40\n",
      "15000/15000 [==============================] - 5s 302us/sample - loss: 0.2895 - acc: 0.9021 - val_loss: 0.3340 - val_acc: 0.8732\n",
      "Epoch 15/40\n",
      "15000/15000 [==============================] - 4s 293us/sample - loss: 0.2728 - acc: 0.9065 - val_loss: 0.3241 - val_acc: 0.8741\n",
      "Epoch 16/40\n",
      "15000/15000 [==============================] - 4s 289us/sample - loss: 0.2577 - acc: 0.9114 - val_loss: 0.3158 - val_acc: 0.8752\n",
      "Epoch 17/40\n",
      "15000/15000 [==============================] - 4s 292us/sample - loss: 0.2438 - acc: 0.9155 - val_loss: 0.3089 - val_acc: 0.8779\n",
      "Epoch 18/40\n",
      "15000/15000 [==============================] - 4s 290us/sample - loss: 0.2316 - acc: 0.9205 - val_loss: 0.3031 - val_acc: 0.8805\n",
      "Epoch 19/40\n",
      "15000/15000 [==============================] - 4s 289us/sample - loss: 0.2204 - acc: 0.9232 - val_loss: 0.2981 - val_acc: 0.8819\n",
      "Epoch 20/40\n",
      "15000/15000 [==============================] - 5s 355us/sample - loss: 0.2104 - acc: 0.9269 - val_loss: 0.2947 - val_acc: 0.8816\n",
      "Epoch 21/40\n",
      "15000/15000 [==============================] - 5s 333us/sample - loss: 0.2002 - acc: 0.9325 - val_loss: 0.2918 - val_acc: 0.8832\n",
      "Epoch 22/40\n",
      "15000/15000 [==============================] - 5s 342us/sample - loss: 0.1917 - acc: 0.9353 - val_loss: 0.2895 - val_acc: 0.8840\n",
      "Epoch 23/40\n",
      "15000/15000 [==============================] - 5s 364us/sample - loss: 0.1831 - acc: 0.9398 - val_loss: 0.2885 - val_acc: 0.8838\n",
      "Epoch 24/40\n",
      "15000/15000 [==============================] - 5s 321us/sample - loss: 0.1756 - acc: 0.9430 - val_loss: 0.2868 - val_acc: 0.8846\n",
      "Epoch 25/40\n",
      "15000/15000 [==============================] - 4s 251us/sample - loss: 0.1680 - acc: 0.9465 - val_loss: 0.2856 - val_acc: 0.8848\n",
      "Epoch 26/40\n",
      "15000/15000 [==============================] - 3s 179us/sample - loss: 0.1612 - acc: 0.9493 - val_loss: 0.2862 - val_acc: 0.8833\n",
      "Epoch 27/40\n",
      "15000/15000 [==============================] - 2s 160us/sample - loss: 0.1547 - acc: 0.9519 - val_loss: 0.2857 - val_acc: 0.8847\n",
      "Epoch 28/40\n",
      "15000/15000 [==============================] - 2s 143us/sample - loss: 0.1486 - acc: 0.9543 - val_loss: 0.2860 - val_acc: 0.8858\n",
      "Epoch 29/40\n",
      "15000/15000 [==============================] - 2s 142us/sample - loss: 0.1432 - acc: 0.9575 - val_loss: 0.2880 - val_acc: 0.8833\n",
      "Epoch 30/40\n",
      "15000/15000 [==============================] - 2s 144us/sample - loss: 0.1375 - acc: 0.9591 - val_loss: 0.2873 - val_acc: 0.8858\n",
      "Epoch 31/40\n",
      "15000/15000 [==============================] - 2s 146us/sample - loss: 0.1319 - acc: 0.9613 - val_loss: 0.2884 - val_acc: 0.8863\n",
      "Epoch 32/40\n",
      "15000/15000 [==============================] - 2s 142us/sample - loss: 0.1267 - acc: 0.9641 - val_loss: 0.2899 - val_acc: 0.8858\n",
      "Epoch 33/40\n",
      "15000/15000 [==============================] - 2s 159us/sample - loss: 0.1218 - acc: 0.9655 - val_loss: 0.2922 - val_acc: 0.8850\n",
      "Epoch 34/40\n",
      "15000/15000 [==============================] - 2s 152us/sample - loss: 0.1174 - acc: 0.9668 - val_loss: 0.2941 - val_acc: 0.8853\n",
      "Epoch 35/40\n",
      "15000/15000 [==============================] - 2s 144us/sample - loss: 0.1132 - acc: 0.9683 - val_loss: 0.2971 - val_acc: 0.8847\n",
      "Epoch 36/40\n",
      "15000/15000 [==============================] - 3s 174us/sample - loss: 0.1088 - acc: 0.9705 - val_loss: 0.2987 - val_acc: 0.8846\n",
      "Epoch 37/40\n",
      "15000/15000 [==============================] - 3s 175us/sample - loss: 0.1046 - acc: 0.9712 - val_loss: 0.3012 - val_acc: 0.8832\n",
      "Epoch 38/40\n",
      "15000/15000 [==============================] - 2s 138us/sample - loss: 0.1007 - acc: 0.9729 - val_loss: 0.3048 - val_acc: 0.8831\n",
      "Epoch 39/40\n",
      "15000/15000 [==============================] - 2s 138us/sample - loss: 0.0975 - acc: 0.9741 - val_loss: 0.3082 - val_acc: 0.8818\n",
      "Epoch 40/40\n",
      "15000/15000 [==============================] - 2s 139us/sample - loss: 0.0935 - acc: 0.9761 - val_loss: 0.3105 - val_acc: 0.8822\n"
     ]
    }
   ],
   "source": [
    "history = model.fit(partial_x_train,\n",
    "                   partial_y_train,\n",
    "                   epochs=40,\n",
    "                   batch_size=512,\n",
    "                    validation_data = (x_val,y_val),\n",
    "                   verbose=1)"
   ]
  },
  {
   "cell_type": "code",
   "execution_count": 45,
   "metadata": {},
   "outputs": [
    {
     "name": "stdout",
     "output_type": "stream",
     "text": [
      "25000/25000 [==============================] - 4s 156us/sample - loss: 0.3313 - acc: 0.8720\n",
      "[0.3312735123348236, 0.87196]\n"
     ]
    }
   ],
   "source": [
    "results = model.evaluate(test_data,test_labels)\n",
    "print(results)"
   ]
  },
  {
   "cell_type": "code",
   "execution_count": 48,
   "metadata": {},
   "outputs": [
    {
     "data": {
      "text/plain": [
       "dict_keys(['loss', 'acc', 'val_loss', 'val_acc'])"
      ]
     },
     "execution_count": 48,
     "metadata": {},
     "output_type": "execute_result"
    }
   ],
   "source": [
    "history_dict = history.history\n",
    "history_dict.keys()"
   ]
  },
  {
   "cell_type": "code",
   "execution_count": 49,
   "metadata": {},
   "outputs": [
    {
     "data": {
      "text/plain": [
       "<Figure size 640x480 with 1 Axes>"
      ]
     },
     "metadata": {},
     "output_type": "display_data"
    }
   ],
   "source": [
    "import matplotlib.pyplot as plt\n",
    "\n",
    "acc = history_dict['acc']\n",
    "val_acc = history_dict['val_acc']\n",
    "loss = history_dict['loss']\n",
    "val_loss = history_dict['val_loss']\n",
    "\n",
    "epochs = range(1, len(acc) + 1)\n",
    "\n",
    "# \"bo\" is for \"blue dot\"\n",
    "plt.plot(epochs, loss, 'bo', label='Training loss')\n",
    "# b is for \"solid blue line\"\n",
    "plt.plot(epochs, val_loss, 'b', label='Validation loss')\n",
    "plt.title('Training and validation loss')\n",
    "plt.xlabel('Epochs')\n",
    "plt.ylabel('Loss')\n",
    "plt.legend()\n",
    "\n",
    "plt.show()"
   ]
  },
  {
   "cell_type": "code",
   "execution_count": 50,
   "metadata": {},
   "outputs": [
    {
     "data": {
      "image/png": "[encoded data removed]",
      "text/plain": [
       "<Figure size 432x288 with 1 Axes>"
      ]
     },
     "metadata": {
      "needs_background": "light"
     },
     "output_type": "display_data"
    }
   ],
   "source": [
    "plt.clf()   # clear figure\n",
    "\n",
    "plt.plot(epochs, acc, 'bo', label='Training acc')\n",
    "plt.plot(epochs, val_acc, 'b', label='Validation acc')\n",
    "plt.title('Training and validation accuracy')\n",
    "plt.xlabel('Epochs')\n",
    "plt.ylabel('Accuracy')\n",
    "plt.legend()\n",
    "\n",
    "plt.show()"
   ]
  },
  {
   "cell_type": "code",
   "execution_count": null,
   "metadata": {},
   "outputs": [],
   "source": []
  }
 ],
 "metadata": {
  "kernelspec": {
   "display_name": "Python 3",
   "language": "python",
   "name": "python3"
  },
  "language_info": {
   "codemirror_mode": {
    "name": "ipython",
    "version": 3
   },
   "file_extension": ".py",
   "mimetype": "text/x-python",
   "name": "python",
   "nbconvert_exporter": "python",
   "pygments_lexer": "ipython3",
   "version": "3.6.7"
  }
 },
 "nbformat": 4,
 "nbformat_minor": 2
}
