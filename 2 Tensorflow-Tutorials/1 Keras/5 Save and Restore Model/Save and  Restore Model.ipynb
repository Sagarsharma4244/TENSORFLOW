{
 "cells": [
  {
   "cell_type": "markdown",
   "metadata": {},
   "source": [
    "# Save and restore models\n",
    "Source: https://www.tensorflow.org/tutorials/keras/save_and_restore_models\n",
    "For Tensorflow2.0 : https://colab.research.google.com/github/tensorflow/docs/blob/master/site/en/r2/tutorials/keras/save_and_restore_models.ipynb#scrollTo=Pc9e6G6w1AWG"
   ]
  },
  {
   "cell_type": "code",
   "execution_count": 1,
   "metadata": {},
   "outputs": [],
   "source": [
    "!pip install -q h5py pyyaml "
   ]
  },
  {
   "cell_type": "code",
   "execution_count": 2,
   "metadata": {},
   "outputs": [],
   "source": [
    "import os\n",
    "import tensorflow as tf\n",
    "from tensorflow import keras"
   ]
  },
  {
   "cell_type": "code",
   "execution_count": 3,
   "metadata": {},
   "outputs": [
    {
     "name": "stdout",
     "output_type": "stream",
     "text": [
      "2.0.0-alpha0\n"
     ]
    }
   ],
   "source": [
    "print(tf.__version__)"
   ]
  },
  {
   "cell_type": "code",
   "execution_count": 6,
   "metadata": {},
   "outputs": [],
   "source": [
    "(train_images, train_labels), (test_images, test_labels)= tf.keras.datasets.mnist.load_data()\n",
    "\n",
    "train_labels = train_labels[:1000]\n",
    "test_labels = test_labels[:1000]\n",
    "\n",
    "test_images = test_images[:1000].reshape(-1, 28*28)/255.0\n",
    "train_images = train_images[:1000].reshape(-1, 28*28)/255.0"
   ]
  },
  {
   "cell_type": "markdown",
   "metadata": {},
   "source": [
    "## Define a Model"
   ]
  },
  {
   "cell_type": "code",
   "execution_count": 7,
   "metadata": {},
   "outputs": [],
   "source": [
    "#Returns a short Sequential Model\n",
    "def create_model():\n",
    "    model = tf.keras.Sequential([\n",
    "        keras.layers.Dense(512, activation=tf.nn.relu,input_shape=(784,)),\n",
    "        keras.layers.Dropout(0.2),\n",
    "        keras.layers.Dense(10, activation=tf.nn.softmax)\n",
    "    ])\n",
    "    model.compile(optimizer='adam',\n",
    "                 loss='sparse_categorical_crossentropy',\n",
    "                 metrics=['accuracy'])\n",
    "    \n",
    "    return model\n"
   ]
  },
  {
   "cell_type": "markdown",
   "metadata": {},
   "source": [
    "###  Create Model Instance"
   ]
  },
  {
   "cell_type": "code",
   "execution_count": 8,
   "metadata": {},
   "outputs": [
    {
     "name": "stdout",
     "output_type": "stream",
     "text": [
      "Model: \"sequential\"\n",
      "_________________________________________________________________\n",
      "Layer (type)                 Output Shape              Param #   \n",
      "=================================================================\n",
      "dense (Dense)                (None, 512)               401920    \n",
      "_________________________________________________________________\n",
      "dropout (Dropout)            (None, 512)               0         \n",
      "_________________________________________________________________\n",
      "dense_1 (Dense)              (None, 10)                5130      \n",
      "=================================================================\n",
      "Total params: 407,050\n",
      "Trainable params: 407,050\n",
      "Non-trainable params: 0\n",
      "_________________________________________________________________\n"
     ]
    }
   ],
   "source": [
    "model = create_model()\n",
    "model.summary()"
   ]
  },
  {
   "cell_type": "markdown",
   "metadata": {},
   "source": [
    "### Checkpoint Callback usage"
   ]
  },
  {
   "cell_type": "code",
   "execution_count": 11,
   "metadata": {},
   "outputs": [],
   "source": [
    "checkpoint_path = \"training_1/cp.ckpt\"\n",
    "checkpoint_dir = os.path.dirname(checkpoint_path)\n",
    "cp_callback = tf.keras.callbacks.ModelCheckpoint(checkpoint_path,\n",
    "                                               save_weights_only=True,\n",
    "                                               verbose = 1)"
   ]
  },
  {
   "cell_type": "code",
   "execution_count": 12,
   "metadata": {},
   "outputs": [
    {
     "name": "stdout",
     "output_type": "stream",
     "text": [
      "Train on 1000 samples, validate on 1000 samples\n",
      "Epoch 1/10\n",
      " 960/1000 [===========================>..] - ETA: 0s - loss: 1.1814 - accuracy: 0.6521\n",
      "Epoch 00001: saving model to training_1/cp.ckpt\n",
      "1000/1000 [==============================] - 3s 3ms/sample - loss: 1.1537 - accuracy: 0.6610 - val_loss: 0.7298 - val_accuracy: 0.7700\n",
      "Epoch 2/10\n",
      " 928/1000 [==========================>...] - ETA: 0s - loss: 0.4271 - accuracy: 0.8664\n",
      "Epoch 00002: saving model to training_1/cp.ckpt\n",
      "1000/1000 [==============================] - 2s 2ms/sample - loss: 0.4245 - accuracy: 0.8690 - val_loss: 0.5443 - val_accuracy: 0.8290\n",
      "Epoch 3/10\n",
      " 992/1000 [============================>.] - ETA: 0s - loss: 0.2787 - accuracy: 0.9234\n",
      "Epoch 00003: saving model to training_1/cp.ckpt\n",
      "1000/1000 [==============================] - 2s 2ms/sample - loss: 0.2782 - accuracy: 0.9240 - val_loss: 0.4862 - val_accuracy: 0.8530\n",
      "Epoch 4/10\n",
      " 928/1000 [==========================>...] - ETA: 0s - loss: 0.1939 - accuracy: 0.9537\n",
      "Epoch 00004: saving model to training_1/cp.ckpt\n",
      "1000/1000 [==============================] - 1s 1ms/sample - loss: 0.1941 - accuracy: 0.9540 - val_loss: 0.4335 - val_accuracy: 0.8610\n",
      "Epoch 5/10\n",
      " 928/1000 [==========================>...] - ETA: 0s - loss: 0.1486 - accuracy: 0.9655\n",
      "Epoch 00005: saving model to training_1/cp.ckpt\n",
      "1000/1000 [==============================] - 1s 1ms/sample - loss: 0.1472 - accuracy: 0.9670 - val_loss: 0.4439 - val_accuracy: 0.8640\n",
      "Epoch 6/10\n",
      " 960/1000 [===========================>..] - ETA: 0s - loss: 0.1156 - accuracy: 0.9750\n",
      "Epoch 00006: saving model to training_1/cp.ckpt\n",
      "1000/1000 [==============================] - 2s 2ms/sample - loss: 0.1164 - accuracy: 0.9750 - val_loss: 0.4502 - val_accuracy: 0.8530\n",
      "Epoch 7/10\n",
      " 992/1000 [============================>.] - ETA: 0s - loss: 0.0851 - accuracy: 0.9879 ETA: 0s - loss: 0.0863 - accuracy: 0.98\n",
      "Epoch 00007: saving model to training_1/cp.ckpt\n",
      "1000/1000 [==============================] - 2s 2ms/sample - loss: 0.0847 - accuracy: 0.9880 - val_loss: 0.4220 - val_accuracy: 0.8690\n",
      "Epoch 8/10\n",
      " 960/1000 [===========================>..] - ETA: 0s - loss: 0.0566 - accuracy: 0.99 - ETA: 0s - loss: 0.0564 - accuracy: 0.9969\n",
      "Epoch 00008: saving model to training_1/cp.ckpt\n",
      "1000/1000 [==============================] - 2s 2ms/sample - loss: 0.0576 - accuracy: 0.9970 - val_loss: 0.4104 - val_accuracy: 0.8690\n",
      "Epoch 9/10\n",
      " 992/1000 [============================>.] - ETA: 0s - loss: 0.0491 - accuracy: 0.9960\n",
      "Epoch 00009: saving model to training_1/cp.ckpt\n",
      "1000/1000 [==============================] - 1s 1ms/sample - loss: 0.0489 - accuracy: 0.9960 - val_loss: 0.4047 - val_accuracy: 0.8710\n",
      "Epoch 10/10\n",
      " 960/1000 [===========================>..] - ETA: 0s - loss: 0.0377 - accuracy: 0.9979 ETA: 0s - loss: 0.0397 - accuracy\n",
      "Epoch 00010: saving model to training_1/cp.ckpt\n",
      "1000/1000 [==============================] - 1s 1ms/sample - loss: 0.0372 - accuracy: 0.9980 - val_loss: 0.4194 - val_accuracy: 0.8700\n"
     ]
    },
    {
     "data": {
      "text/plain": [
       "<tensorflow.python.keras.callbacks.History at 0x269486ac898>"
      ]
     },
     "execution_count": 12,
     "metadata": {},
     "output_type": "execute_result"
    }
   ],
   "source": [
    "model = create_model()\n",
    "model.fit(train_images, train_labels,\n",
    "          epochs=10,\n",
    "          validation_data = (test_images, test_labels),\n",
    "         callbacks = [cp_callback])"
   ]
  },
  {
   "cell_type": "code",
   "execution_count": 18,
   "metadata": {
    "scrolled": true
   },
   "outputs": [
    {
     "name": "stdout",
     "output_type": "stream",
     "text": [
      " Volume in drive C is Win 10 Pro\n",
      " Volume Serial Number is FCFC-5707\n",
      "\n",
      " Directory of C:\\Users\\HP\\Desktop\\Code\\TENSORFLOW\\2 Tensorflow-Tutorials\\1 Keras\\5 Save and Restore Model\\training_1\n",
      "\n",
      "14-03-2019  14:37    <DIR>          .\n",
      "14-03-2019  14:37    <DIR>          ..\n",
      "14-03-2019  14:37                71 checkpoint\n",
      "14-03-2019  14:37         4,889,870 cp.ckpt.data-00000-of-00001\n",
      "14-03-2019  14:37             1,579 cp.ckpt.index\n",
      "               3 File(s)      4,891,520 bytes\n",
      "               2 Dir(s)  366,335,111,168 bytes free\n"
     ]
    }
   ],
   "source": [
    "#this Creates a single collection of tensorflow checkpoints files that are updated at the end od every epoch.\n",
    "!dir {checkpoint_dir}"
   ]
  },
  {
   "cell_type": "markdown",
   "metadata": {},
   "source": [
    "#### Create a New Empty Model"
   ]
  },
  {
   "cell_type": "code",
   "execution_count": 19,
   "metadata": {},
   "outputs": [
    {
     "name": "stdout",
     "output_type": "stream",
     "text": [
      "1000/1000 [==============================] - 1s 540us/sample - loss: 2.3857 - accuracy: 0.0840\n",
      "Untrained model,accuracy:  8.40% \n"
     ]
    }
   ],
   "source": [
    "# Now create a new empty model and see the difference\n",
    "\n",
    "model = create_model()\n",
    "loss, acc = model.evaluate(test_images, test_labels)\n",
    "print(\"Untrained model,accuracy: {:5.2f}% \".format(100*acc))"
   ]
  },
  {
   "cell_type": "markdown",
   "metadata": {},
   "source": [
    "#### Load Weights in New Model"
   ]
  },
  {
   "cell_type": "code",
   "execution_count": 21,
   "metadata": {},
   "outputs": [
    {
     "name": "stdout",
     "output_type": "stream",
     "text": [
      "1000/1000 [==============================] - 0s 270us/sample - loss: 0.4194 - accuracy: 0.8700\n",
      "RESTORE and TRAINED model, accuracy: 87.00% \n"
     ]
    }
   ],
   "source": [
    "model.load_weights(checkpoint_path)\n",
    "loss, acc = model.evaluate(test_images, test_labels)\n",
    "print(\"RESTORE and TRAINED model, accuracy: {:5.2f}% \".format(100*acc))"
   ]
  },
  {
   "cell_type": "markdown",
   "metadata": {},
   "source": [
    "### Checkpoint callback options (save weights every 5-epochs)"
   ]
  },
  {
   "cell_type": "code",
   "execution_count": 22,
   "metadata": {},
   "outputs": [
    {
     "name": "stdout",
     "output_type": "stream",
     "text": [
      "\n",
      "Epoch 00005: saving model to training_2/cp-0005.ckpt\n",
      "\n",
      "Epoch 00010: saving model to training_2/cp-0010.ckpt\n",
      "\n",
      "Epoch 00015: saving model to training_2/cp-0015.ckpt\n",
      "\n",
      "Epoch 00020: saving model to training_2/cp-0020.ckpt\n",
      "\n",
      "Epoch 00025: saving model to training_2/cp-0025.ckpt\n",
      "\n",
      "Epoch 00030: saving model to training_2/cp-0030.ckpt\n",
      "\n",
      "Epoch 00035: saving model to training_2/cp-0035.ckpt\n",
      "\n",
      "Epoch 00040: saving model to training_2/cp-0040.ckpt\n",
      "\n",
      "Epoch 00045: saving model to training_2/cp-0045.ckpt\n",
      "\n",
      "Epoch 00050: saving model to training_2/cp-0050.ckpt\n"
     ]
    },
    {
     "data": {
      "text/plain": [
       "<tensorflow.python.keras.callbacks.History at 0x2695e9b2e80>"
      ]
     },
     "execution_count": 22,
     "metadata": {},
     "output_type": "execute_result"
    }
   ],
   "source": [
    "checkpoint_path = \"training_2/cp-{epoch:04d}.ckpt\"\n",
    "checkpoint_dir = os.path.dirname(checkpoint_path)\n",
    "cp_callback = tf.keras.callbacks.ModelCheckpoint(checkpoint_path,\n",
    "                                                verbose = 1,\n",
    "                                                save_weights_only=True,\n",
    "                                                #save weights every 5-epochs\n",
    "                                                period=5)\n",
    "\n",
    "model = create_model()\n",
    "model.save_weights(checkpoint_path.format(epoch=0))\n",
    "model.fit(train_images, train_labels,\n",
    "         epochs = 50,\n",
    "         callbacks=[cp_callback],\n",
    "         validation_data=(test_images, test_labels),\n",
    "         verbose=0)"
   ]
  },
  {
   "cell_type": "code",
   "execution_count": 24,
   "metadata": {},
   "outputs": [
    {
     "name": "stdout",
     "output_type": "stream",
     "text": [
      " Volume in drive C is Win 10 Pro\n",
      " Volume Serial Number is FCFC-5707\n",
      "\n",
      " Directory of C:\\Users\\HP\\Desktop\\Code\\TENSORFLOW\\2 Tensorflow-Tutorials\\1 Keras\\5 Save and Restore Model\\training_2\n",
      "\n",
      "14-03-2019  15:20    <DIR>          .\n",
      "14-03-2019  15:20    <DIR>          ..\n",
      "14-03-2019  15:20                81 checkpoint\n",
      "14-03-2019  15:19         1,631,611 cp-0000.ckpt.data-00000-of-00001\n",
      "14-03-2019  15:19               706 cp-0000.ckpt.index\n",
      "14-03-2019  15:19         4,889,898 cp-0005.ckpt.data-00000-of-00001\n",
      "14-03-2019  15:19             1,579 cp-0005.ckpt.index\n",
      "14-03-2019  15:19         4,889,898 cp-0010.ckpt.data-00000-of-00001\n",
      "14-03-2019  15:19             1,579 cp-0010.ckpt.index\n",
      "14-03-2019  15:19         4,889,898 cp-0015.ckpt.data-00000-of-00001\n",
      "14-03-2019  15:19             1,579 cp-0015.ckpt.index\n",
      "14-03-2019  15:19         4,889,898 cp-0020.ckpt.data-00000-of-00001\n",
      "14-03-2019  15:19             1,579 cp-0020.ckpt.index\n",
      "14-03-2019  15:19         4,889,898 cp-0025.ckpt.data-00000-of-00001\n",
      "14-03-2019  15:19             1,579 cp-0025.ckpt.index\n",
      "14-03-2019  15:19         4,889,898 cp-0030.ckpt.data-00000-of-00001\n",
      "14-03-2019  15:19             1,579 cp-0030.ckpt.index\n",
      "14-03-2019  15:19         4,889,898 cp-0035.ckpt.data-00000-of-00001\n",
      "14-03-2019  15:19             1,579 cp-0035.ckpt.index\n",
      "14-03-2019  15:19         4,889,898 cp-0040.ckpt.data-00000-of-00001\n",
      "14-03-2019  15:19             1,579 cp-0040.ckpt.index\n",
      "14-03-2019  15:20         4,889,898 cp-0045.ckpt.data-00000-of-00001\n",
      "14-03-2019  15:20             1,579 cp-0045.ckpt.index\n",
      "14-03-2019  15:20         4,889,898 cp-0050.ckpt.data-00000-of-00001\n",
      "14-03-2019  15:20             1,579 cp-0050.ckpt.index\n",
      "              23 File(s)     50,547,168 bytes\n",
      "               2 Dir(s)  366,289,756,160 bytes free\n"
     ]
    }
   ],
   "source": [
    "#now look at the resulting checkpoints\n",
    "!dir {checkpoint_dir}"
   ]
  },
  {
   "cell_type": "code",
   "execution_count": 26,
   "metadata": {},
   "outputs": [
    {
     "data": {
      "text/plain": [
       "'training_2\\\\cp-0050.ckpt'"
      ]
     },
     "execution_count": 26,
     "metadata": {},
     "output_type": "execute_result"
    }
   ],
   "source": [
    "# Check the latest checkpoint\n",
    "latest = tf.train.latest_checkpoint(checkpoint_dir)\n",
    "latest"
   ]
  },
  {
   "cell_type": "markdown",
   "metadata": {},
   "source": [
    "### Test "
   ]
  },
  {
   "cell_type": "code",
   "execution_count": 27,
   "metadata": {},
   "outputs": [
    {
     "name": "stdout",
     "output_type": "stream",
     "text": [
      "1000/1000 [==============================] - 1s 541us/sample - loss: 0.5040 - accuracy: 0.8710\n",
      "RESTORED MODEL, Accuracy: 87.10%\n"
     ]
    }
   ],
   "source": [
    "model = create_model()\n",
    "model.load_weights(latest)\n",
    "loss,acc = model.evaluate(test_images, test_labels)\n",
    "\n",
    "print(\"RESTORED MODEL, Accuracy: {:5.2f}%\".format(100*acc))"
   ]
  },
  {
   "cell_type": "markdown",
   "metadata": {},
   "source": [
    "## Save the Entire Model"
   ]
  },
  {
   "cell_type": "markdown",
   "metadata": {},
   "source": [
    "### As an HDF5 file"
   ]
  },
  {
   "cell_type": "code",
   "execution_count": 33,
   "metadata": {},
   "outputs": [
    {
     "name": "stdout",
     "output_type": "stream",
     "text": [
      "Epoch 1/5\n",
      "1000/1000 [==============================] - 1s 1ms/sample - loss: 1.1301 - accuracy: 0.6830\n",
      "Epoch 2/5\n",
      "1000/1000 [==============================] - 1s 704us/sample - loss: 0.4120 - accuracy: 0.8900\n",
      "Epoch 3/5\n",
      "1000/1000 [==============================] - 1s 722us/sample - loss: 0.2830 - accuracy: 0.9230\n",
      "Epoch 4/5\n",
      "1000/1000 [==============================] - 1s 776us/sample - loss: 0.2058 - accuracy: 0.9530\n",
      "Epoch 5/5\n",
      "1000/1000 [==============================] - 1s 736us/sample - loss: 0.1544 - accuracy: 0.9660\n"
     ]
    }
   ],
   "source": [
    "model = create_model()\n",
    "model.fit(train_images, train_labels, epochs=5,verbose=1)\n",
    "\n",
    "#Save entire model to a HDF5 file\n",
    "model.save('my_model.h5')"
   ]
  },
  {
   "cell_type": "markdown",
   "metadata": {},
   "source": [
    "### Recreate Same model from that file"
   ]
  },
  {
   "cell_type": "code",
   "execution_count": 35,
   "metadata": {},
   "outputs": [
    {
     "name": "stdout",
     "output_type": "stream",
     "text": [
      "Model: \"sequential_10\"\n",
      "_________________________________________________________________\n",
      "Layer (type)                 Output Shape              Param #   \n",
      "=================================================================\n",
      "dense_20 (Dense)             (None, 512)               401920    \n",
      "_________________________________________________________________\n",
      "dropout_10 (Dropout)         (None, 512)               0         \n",
      "_________________________________________________________________\n",
      "dense_21 (Dense)             (None, 10)                5130      \n",
      "=================================================================\n",
      "Total params: 407,050\n",
      "Trainable params: 407,050\n",
      "Non-trainable params: 0\n",
      "_________________________________________________________________\n"
     ]
    }
   ],
   "source": [
    "new_model = keras.models.load_model('my_model.h5')\n",
    "new_model.summary()"
   ]
  },
  {
   "cell_type": "markdown",
   "metadata": {},
   "source": [
    "### Check its Accuracy"
   ]
  },
  {
   "cell_type": "code",
   "execution_count": 37,
   "metadata": {
    "scrolled": true
   },
   "outputs": [
    {
     "name": "stdout",
     "output_type": "stream",
     "text": [
      "1000/1000 [==============================] - 0s 308us/sample - loss: 0.4198 - accuracy: 0.8650\n",
      "Restored model, accuracy: 86.50%\n"
     ]
    }
   ],
   "source": [
    "loss, acc = new_model.evaluate(test_images, test_labels)\n",
    "print(\"Restored model, accuracy: {:5.2f}%\".format(100*acc))"
   ]
  },
  {
   "cell_type": "markdown",
   "metadata": {},
   "source": [
    "This technique saves everything:\n",
    "- The weight values\n",
    "- The model's configuration(architecture)\n",
    "- The optimizer configuration"
   ]
  },
  {
   "cell_type": "markdown",
   "metadata": {},
   "source": [
    "##  As a Saved Model"
   ]
  },
  {
   "cell_type": "code",
   "execution_count": 39,
   "metadata": {},
   "outputs": [
    {
     "name": "stdout",
     "output_type": "stream",
     "text": [
      "Epoch 1/5\n",
      "1000/1000 [==============================] - 1s 1ms/sample - loss: 1.1695 - accuracy: 0.6600\n",
      "Epoch 2/5\n",
      "1000/1000 [==============================] - 1s 780us/sample - loss: 0.4309 - accuracy: 0.8670\n",
      "Epoch 3/5\n",
      "1000/1000 [==============================] - 1s 759us/sample - loss: 0.2821 - accuracy: 0.9300\n",
      "Epoch 4/5\n",
      "1000/1000 [==============================] - 1s 743us/sample - loss: 0.2086 - accuracy: 0.9480\n",
      "Epoch 5/5\n",
      "1000/1000 [==============================] - 1s 736us/sample - loss: 0.1537 - accuracy: 0.9650 - loss: 0.1572 - ac\n"
     ]
    },
    {
     "data": {
      "text/plain": [
       "<tensorflow.python.keras.callbacks.History at 0x26963566d68>"
      ]
     },
     "execution_count": 39,
     "metadata": {},
     "output_type": "execute_result"
    }
   ],
   "source": [
    "# Build a fresh model\n",
    "model = create_model()\n",
    "\n",
    "model.fit(train_images, train_labels, epochs=5)"
   ]
  },
  {
   "cell_type": "markdown",
   "metadata": {},
   "source": [
    "# From here see: https://colab.research.google.com/github/tensorflow/docs/blob/master/site/en/r2/tutorials/keras/save_and_restore_models.ipynb#scrollTo=sq8fPglI1RWA"
   ]
  },
  {
   "cell_type": "markdown",
   "metadata": {},
   "source": [
    "### Create a saved model"
   ]
  },
  {
   "cell_type": "code",
   "execution_count": 54,
   "metadata": {},
   "outputs": [
    {
     "name": "stderr",
     "output_type": "stream",
     "text": [
      "W0314 16:46:18.518616  2884 tf_logging.py:161] Export includes no default signature!\n",
      "W0314 16:46:20.662527  2884 tf_logging.py:161] Export includes no default signature!\n"
     ]
    },
    {
     "data": {
      "text/plain": [
       "'./saved_models/1552562174'"
      ]
     },
     "execution_count": 54,
     "metadata": {},
     "output_type": "execute_result"
    }
   ],
   "source": [
    "import time\n",
    "saved_model_path = \"./saved_models/{}\".format(int(time.time()))\n",
    "\n",
    "tf.keras.experimental.export_saved_model(model, saved_model_path)\n",
    "saved_model_path"
   ]
  },
  {
   "cell_type": "markdown",
   "metadata": {},
   "source": [
    "## Saved models are placed in a time-stamped directory"
   ]
  },
  {
   "cell_type": "code",
   "execution_count": 51,
   "metadata": {},
   "outputs": [
    {
     "name": "stdout",
     "output_type": "stream",
     "text": [
      " Volume in drive C is Win 10 Pro\n",
      " Volume Serial Number is FCFC-5707\n",
      "\n",
      " Directory of C:\\Users\\HP\\Desktop\\Code\\TENSORFLOW\\2 Tensorflow-Tutorials\\1 Keras\\5 Save and Restore Model\\saved_models\n",
      "\n",
      "14-03-2019  16:26    <DIR>          .\n",
      "14-03-2019  16:26    <DIR>          ..\n",
      "14-03-2019  16:26    <DIR>          assets\n",
      "14-03-2019  16:26           264,712 saved_model.pb\n",
      "14-03-2019  16:26    <DIR>          variables\n",
      "               1 File(s)        264,712 bytes\n",
      "               4 Dir(s)  366,262,358,016 bytes free\n"
     ]
    }
   ],
   "source": [
    "!dir saved_models"
   ]
  },
  {
   "cell_type": "markdown",
   "metadata": {},
   "source": [
    "## Reload a fresh keras model from the saved model."
   ]
  },
  {
   "cell_type": "code",
   "execution_count": 55,
   "metadata": {},
   "outputs": [
    {
     "name": "stdout",
     "output_type": "stream",
     "text": [
      "Model: \"sequential_11\"\n",
      "_________________________________________________________________\n",
      "Layer (type)                 Output Shape              Param #   \n",
      "=================================================================\n",
      "dense_22 (Dense)             (None, 512)               401920    \n",
      "_________________________________________________________________\n",
      "dropout_11 (Dropout)         (None, 512)               0         \n",
      "_________________________________________________________________\n",
      "dense_23 (Dense)             (None, 10)                5130      \n",
      "=================================================================\n",
      "Total params: 407,050\n",
      "Trainable params: 407,050\n",
      "Non-trainable params: 0\n",
      "_________________________________________________________________\n"
     ]
    }
   ],
   "source": [
    "new_model = tf.keras.experimental.load_from_saved_model(saved_model_path)\n",
    "new_model.summary()"
   ]
  },
  {
   "cell_type": "code",
   "execution_count": 56,
   "metadata": {},
   "outputs": [
    {
     "data": {
      "text/plain": [
       "(1000, 10)"
      ]
     },
     "execution_count": 56,
     "metadata": {},
     "output_type": "execute_result"
    }
   ],
   "source": [
    "model.predict(test_images).shape"
   ]
  },
  {
   "cell_type": "code",
   "execution_count": 57,
   "metadata": {},
   "outputs": [
    {
     "name": "stdout",
     "output_type": "stream",
     "text": [
      "1000/1000 [==============================] - 1s 596us/sample - loss: 0.4173 - accuracy: 0.8640\n",
      "Restored model, accuracy: 86.40%\n"
     ]
    }
   ],
   "source": [
    "# The model has to be compiled before evaluating.\n",
    "# This step is not required if the saved model is only being deployed.\n",
    "\n",
    "new_model.compile(optimizer=model.optimizer,  # keep the optimizer that was loaded\n",
    "              loss='sparse_categorical_crossentropy',\n",
    "              metrics=['accuracy'])\n",
    "\n",
    "# Evaluate the restored model.\n",
    "loss, acc = new_model.evaluate(test_images, test_labels)\n",
    "print(\"Restored model, accuracy: {:5.2f}%\".format(100*acc))"
   ]
  },
  {
   "cell_type": "code",
   "execution_count": null,
   "metadata": {},
   "outputs": [],
   "source": []
  }
 ],
 "metadata": {
  "kernelspec": {
   "display_name": "Python 3",
   "language": "python",
   "name": "python3"
  },
  "language_info": {
   "codemirror_mode": {
    "name": "ipython",
    "version": 3
   },
   "file_extension": ".py",
   "mimetype": "text/x-python",
   "name": "python",
   "nbconvert_exporter": "python",
   "pygments_lexer": "ipython3",
   "version": "3.6.7"
  }
 },
 "nbformat": 4,
 "nbformat_minor": 2
}
